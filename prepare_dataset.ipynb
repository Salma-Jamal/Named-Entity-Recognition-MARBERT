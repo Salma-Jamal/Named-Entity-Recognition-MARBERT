{
  "nbformat": 4,
  "nbformat_minor": 0,
  "metadata": {
    "colab": {
      "name": "prepare-dataset.ipynb",
      "provenance": [],
      "collapsed_sections": [],
      "authorship_tag": "ABX9TyMAj57lPcvILTI1Mbk2DYqg",
      "include_colab_link": true
    },
    "kernelspec": {
      "name": "python3",
      "display_name": "Python 3"
    },
    "language_info": {
      "name": "python"
    }
  },
  "cells": [
    {
      "cell_type": "markdown",
      "metadata": {
        "id": "view-in-github",
        "colab_type": "text"
      },
      "source": [
        "<a href=\"https://colab.research.google.com/github/Salma-Jamal/Prepare-Dataset-For-Ner/blob/main/prepare_dataset.ipynb\" target=\"_parent\"><img src=\"https://colab.research.google.com/assets/colab-badge.svg\" alt=\"Open In Colab\"/></a>"
      ]
    },
    {
      "cell_type": "code",
      "metadata": {
        "id": "rncyu-WdAQLG"
      },
      "source": [
        "import pandas as pd\n",
        "import ast\n",
        "import re \n",
        "import string\n",
        "import numpy as np"
      ],
      "execution_count": 3,
      "outputs": []
    },
    {
      "cell_type": "code",
      "metadata": {
        "id": "-Q1a_d4JAbDZ"
      },
      "source": [
        "data  = pd.read_csv('/content/train.csv')"
      ],
      "execution_count": 20,
      "outputs": []
    },
    {
      "cell_type": "code",
      "metadata": {
        "id": "wORz64ViAf9M"
      },
      "source": [
        "data.annotations = data.annotations.apply(lambda annotations : ast.literal_eval(annotations))"
      ],
      "execution_count": 21,
      "outputs": []
    },
    {
      "cell_type": "code",
      "metadata": {
        "colab": {
          "base_uri": "https://localhost:8080/",
          "height": 202
        },
        "id": "uNomiyb4AmW_",
        "outputId": "bedaf13a-b213-4c60-b5e5-d25ccd2fc97f"
      },
      "source": [
        "data.head()"
      ],
      "execution_count": 22,
      "outputs": [
        {
          "output_type": "execute_result",
          "data": {
            "text/html": [
              "<div>\n",
              "<style scoped>\n",
              "    .dataframe tbody tr th:only-of-type {\n",
              "        vertical-align: middle;\n",
              "    }\n",
              "\n",
              "    .dataframe tbody tr th {\n",
              "        vertical-align: top;\n",
              "    }\n",
              "\n",
              "    .dataframe thead th {\n",
              "        text-align: right;\n",
              "    }\n",
              "</style>\n",
              "<table border=\"1\" class=\"dataframe\">\n",
              "  <thead>\n",
              "    <tr style=\"text-align: right;\">\n",
              "      <th></th>\n",
              "      <th>text</th>\n",
              "      <th>annotations</th>\n",
              "    </tr>\n",
              "  </thead>\n",
              "  <tbody>\n",
              "    <tr>\n",
              "      <th>0</th>\n",
              "      <td>اريد تحويل 70 دقيقه لرقم 01100000011 من 011000...</td>\n",
              "      <td>[{'start': 25, 'end': 36, 'entity': 'phonenumb...</td>\n",
              "    </tr>\n",
              "    <tr>\n",
              "      <th>1</th>\n",
              "      <td>طيب لو عايز احول من باقة الانترنت بتاعتى لرقم ...</td>\n",
              "      <td>[{'start': 46, 'end': 57, 'entity': 'phonenumb...</td>\n",
              "    </tr>\n",
              "    <tr>\n",
              "      <th>2</th>\n",
              "      <td>ممكن أعرف متبقيلي ميجابايتس قد ايه؟</td>\n",
              "      <td>[{'start': 18, 'end': 27, 'entity': 'type'}]</td>\n",
              "    </tr>\n",
              "    <tr>\n",
              "      <th>3</th>\n",
              "      <td>شو سعر دقيقة التجوال فى السعودية</td>\n",
              "      <td>[{'start': 24, 'end': 32, 'entity': 'country'}...</td>\n",
              "    </tr>\n",
              "    <tr>\n",
              "      <th>4</th>\n",
              "      <td>عاوز اضيف دقايق تجوال للرقم ده 01100000011</td>\n",
              "      <td>[{'start': 31, 'end': 42, 'entity': 'phonenumb...</td>\n",
              "    </tr>\n",
              "  </tbody>\n",
              "</table>\n",
              "</div>"
            ],
            "text/plain": [
              "                                                text                                        annotations\n",
              "0  اريد تحويل 70 دقيقه لرقم 01100000011 من 011000...  [{'start': 25, 'end': 36, 'entity': 'phonenumb...\n",
              "1  طيب لو عايز احول من باقة الانترنت بتاعتى لرقم ...  [{'start': 46, 'end': 57, 'entity': 'phonenumb...\n",
              "2                ممكن أعرف متبقيلي ميجابايتس قد ايه؟       [{'start': 18, 'end': 27, 'entity': 'type'}]\n",
              "3                   شو سعر دقيقة التجوال فى السعودية  [{'start': 24, 'end': 32, 'entity': 'country'}...\n",
              "4         عاوز اضيف دقايق تجوال للرقم ده 01100000011  [{'start': 31, 'end': 42, 'entity': 'phonenumb..."
            ]
          },
          "metadata": {},
          "execution_count": 22
        }
      ]
    },
    {
      "cell_type": "code",
      "metadata": {
        "colab": {
          "base_uri": "https://localhost:8080/"
        },
        "id": "sZIstEzdBd8y",
        "outputId": "f83f0d69-9e84-4edf-ffc2-124822678601"
      },
      "source": [
        "data.text.to_list()[0] , data.annotations.to_list()[0] "
      ],
      "execution_count": 23,
      "outputs": [
        {
          "output_type": "execute_result",
          "data": {
            "text/plain": [
              "('اريد تحويل 70 دقيقه لرقم 01100000011 من 01100000015',\n",
              " [{'end': 36, 'entity': 'phonenumber', 'start': 25},\n",
              "  {'end': 51, 'entity': 'phonenumber', 'start': 40}])"
            ]
          },
          "metadata": {},
          "execution_count": 23
        }
      ]
    },
    {
      "cell_type": "code",
      "metadata": {
        "id": "FNYVxa_NAq8t"
      },
      "source": [
        "def prepare_dataset(sentence,annotations,sen_num):\n",
        "  lst = {}\n",
        "  keyorder = sentence.split()\n",
        "  for i in annotations:\n",
        "    sen = sentence[i['start']:i['end']].split()\n",
        "    if len(sen) > 1:\n",
        "      for l in range(len(sen)):\n",
        "        if l == 0:\n",
        "          lst[sen[l]] = 'B-'+i['entity']\n",
        "        elif l == len(sen)-1:\n",
        "          lst[sen[l]] = 'E-'+i['entity']\n",
        "        else:\n",
        "          lst[sen[l]] ='I-'+i['entity']\n",
        "\n",
        "    else:\n",
        "      lst[\"\".join(sen)] = i['entity']\n",
        "\n",
        "  for word in sentence.split():\n",
        "    if word not in lst.keys() and word+' ' not in lst.keys():\n",
        "      lst[word] = 'O'     \n",
        "  lst = sorted(lst.items(), key=lambda i:keyorder.index(i[0]))\n",
        "  lst = [('sent'+str(sen_num),) + i for i in lst]\n",
        "  return lst"
      ],
      "execution_count": 24,
      "outputs": []
    },
    {
      "cell_type": "code",
      "metadata": {
        "colab": {
          "base_uri": "https://localhost:8080/"
        },
        "id": "kKHelDVlA2Kd",
        "outputId": "cb11561c-a053-4caf-c5c8-a76c50733d8f"
      },
      "source": [
        "%%time\n",
        "for i in range(len(data.text.to_list())):\n",
        "  lst = prepare_dataset(data.text.to_list()[i],data.annotations.to_list()[i],i+1)\n",
        "  if i == 0:\n",
        "    NER_Data = pd.DataFrame(lst, columns=[\"Sentence\",\"Word\", \"Tag\"])\n",
        "  else:\n",
        "    df2 = pd.DataFrame(lst, columns=[\"Sentence\",\"Word\", \"Tag\"])\n",
        "    NER_Data= NER_Data.append(df2)"
      ],
      "execution_count": 25,
      "outputs": [
        {
          "output_type": "stream",
          "name": "stdout",
          "text": [
            "CPU times: user 327 ms, sys: 5.59 ms, total: 333 ms\n",
            "Wall time: 349 ms\n"
          ]
        }
      ]
    },
    {
      "cell_type": "code",
      "metadata": {
        "colab": {
          "base_uri": "https://localhost:8080/",
          "height": 202
        },
        "id": "krtvM2WZA5iy",
        "outputId": "2fdbaa1f-1e21-437e-f876-77ee92f4fc16"
      },
      "source": [
        "NER_Data.head()"
      ],
      "execution_count": 28,
      "outputs": [
        {
          "output_type": "execute_result",
          "data": {
            "text/html": [
              "<div>\n",
              "<style scoped>\n",
              "    .dataframe tbody tr th:only-of-type {\n",
              "        vertical-align: middle;\n",
              "    }\n",
              "\n",
              "    .dataframe tbody tr th {\n",
              "        vertical-align: top;\n",
              "    }\n",
              "\n",
              "    .dataframe thead th {\n",
              "        text-align: right;\n",
              "    }\n",
              "</style>\n",
              "<table border=\"1\" class=\"dataframe\">\n",
              "  <thead>\n",
              "    <tr style=\"text-align: right;\">\n",
              "      <th></th>\n",
              "      <th>Sentence</th>\n",
              "      <th>Word</th>\n",
              "      <th>Tag</th>\n",
              "    </tr>\n",
              "  </thead>\n",
              "  <tbody>\n",
              "    <tr>\n",
              "      <th>0</th>\n",
              "      <td>sent1</td>\n",
              "      <td>اريد</td>\n",
              "      <td>O</td>\n",
              "    </tr>\n",
              "    <tr>\n",
              "      <th>1</th>\n",
              "      <td>sent1</td>\n",
              "      <td>تحويل</td>\n",
              "      <td>O</td>\n",
              "    </tr>\n",
              "    <tr>\n",
              "      <th>2</th>\n",
              "      <td>sent1</td>\n",
              "      <td>70</td>\n",
              "      <td>O</td>\n",
              "    </tr>\n",
              "    <tr>\n",
              "      <th>3</th>\n",
              "      <td>sent1</td>\n",
              "      <td>دقيقه</td>\n",
              "      <td>O</td>\n",
              "    </tr>\n",
              "    <tr>\n",
              "      <th>4</th>\n",
              "      <td>sent1</td>\n",
              "      <td>لرقم</td>\n",
              "      <td>O</td>\n",
              "    </tr>\n",
              "  </tbody>\n",
              "</table>\n",
              "</div>"
            ],
            "text/plain": [
              "  Sentence   Word Tag\n",
              "0    sent1   اريد   O\n",
              "1    sent1  تحويل   O\n",
              "2    sent1     70   O\n",
              "3    sent1  دقيقه   O\n",
              "4    sent1   لرقم   O"
            ]
          },
          "metadata": {},
          "execution_count": 28
        }
      ]
    },
    {
      "cell_type": "markdown",
      "metadata": {
        "id": "dLv_7MqsB_ip"
      },
      "source": [
        "- I- prefix before a tag indicates that the tag is inside a chunk. \n",
        "- O tag indicates that a token belongs to no chunk. \n",
        "- B- prefix before a tag indicates that the tag is the beginning of a chunk \n",
        "- E- prefix before a tag indicates that the tag is the ending of a chunk"
      ]
    },
    {
      "cell_type": "code",
      "metadata": {
        "colab": {
          "base_uri": "https://localhost:8080/",
          "height": 294
        },
        "id": "GcxRpQzrBJX6",
        "outputId": "3cacd66d-ea25-4eee-bbbb-17e6f5f0b052"
      },
      "source": [
        "NER_Data[NER_Data.Sentence == 'sent1']"
      ],
      "execution_count": 32,
      "outputs": [
        {
          "output_type": "execute_result",
          "data": {
            "text/html": [
              "<div>\n",
              "<style scoped>\n",
              "    .dataframe tbody tr th:only-of-type {\n",
              "        vertical-align: middle;\n",
              "    }\n",
              "\n",
              "    .dataframe tbody tr th {\n",
              "        vertical-align: top;\n",
              "    }\n",
              "\n",
              "    .dataframe thead th {\n",
              "        text-align: right;\n",
              "    }\n",
              "</style>\n",
              "<table border=\"1\" class=\"dataframe\">\n",
              "  <thead>\n",
              "    <tr style=\"text-align: right;\">\n",
              "      <th></th>\n",
              "      <th>Sentence</th>\n",
              "      <th>Word</th>\n",
              "      <th>Tag</th>\n",
              "    </tr>\n",
              "  </thead>\n",
              "  <tbody>\n",
              "    <tr>\n",
              "      <th>0</th>\n",
              "      <td>sent1</td>\n",
              "      <td>اريد</td>\n",
              "      <td>O</td>\n",
              "    </tr>\n",
              "    <tr>\n",
              "      <th>1</th>\n",
              "      <td>sent1</td>\n",
              "      <td>تحويل</td>\n",
              "      <td>O</td>\n",
              "    </tr>\n",
              "    <tr>\n",
              "      <th>2</th>\n",
              "      <td>sent1</td>\n",
              "      <td>70</td>\n",
              "      <td>O</td>\n",
              "    </tr>\n",
              "    <tr>\n",
              "      <th>3</th>\n",
              "      <td>sent1</td>\n",
              "      <td>دقيقه</td>\n",
              "      <td>O</td>\n",
              "    </tr>\n",
              "    <tr>\n",
              "      <th>4</th>\n",
              "      <td>sent1</td>\n",
              "      <td>لرقم</td>\n",
              "      <td>O</td>\n",
              "    </tr>\n",
              "    <tr>\n",
              "      <th>5</th>\n",
              "      <td>sent1</td>\n",
              "      <td>01100000011</td>\n",
              "      <td>phonenumber</td>\n",
              "    </tr>\n",
              "    <tr>\n",
              "      <th>6</th>\n",
              "      <td>sent1</td>\n",
              "      <td>من</td>\n",
              "      <td>O</td>\n",
              "    </tr>\n",
              "    <tr>\n",
              "      <th>7</th>\n",
              "      <td>sent1</td>\n",
              "      <td>01100000015</td>\n",
              "      <td>phonenumber</td>\n",
              "    </tr>\n",
              "  </tbody>\n",
              "</table>\n",
              "</div>"
            ],
            "text/plain": [
              "  Sentence         Word          Tag\n",
              "0    sent1         اريد            O\n",
              "1    sent1        تحويل            O\n",
              "2    sent1           70            O\n",
              "3    sent1        دقيقه            O\n",
              "4    sent1         لرقم            O\n",
              "5    sent1  01100000011  phonenumber\n",
              "6    sent1           من            O\n",
              "7    sent1  01100000015  phonenumber"
            ]
          },
          "metadata": {},
          "execution_count": 32
        }
      ]
    },
    {
      "cell_type": "code",
      "metadata": {
        "colab": {
          "base_uri": "https://localhost:8080/",
          "height": 202
        },
        "id": "RSk-sjpKBxjS",
        "outputId": "4eba0a05-3cc1-4862-acd1-db0e01d6a57a"
      },
      "source": [
        "NER_Data[NER_Data.Sentence == 'sent243']"
      ],
      "execution_count": 33,
      "outputs": [
        {
          "output_type": "execute_result",
          "data": {
            "text/html": [
              "<div>\n",
              "<style scoped>\n",
              "    .dataframe tbody tr th:only-of-type {\n",
              "        vertical-align: middle;\n",
              "    }\n",
              "\n",
              "    .dataframe tbody tr th {\n",
              "        vertical-align: top;\n",
              "    }\n",
              "\n",
              "    .dataframe thead th {\n",
              "        text-align: right;\n",
              "    }\n",
              "</style>\n",
              "<table border=\"1\" class=\"dataframe\">\n",
              "  <thead>\n",
              "    <tr style=\"text-align: right;\">\n",
              "      <th></th>\n",
              "      <th>Sentence</th>\n",
              "      <th>Word</th>\n",
              "      <th>Tag</th>\n",
              "    </tr>\n",
              "  </thead>\n",
              "  <tbody>\n",
              "    <tr>\n",
              "      <th>0</th>\n",
              "      <td>sent243</td>\n",
              "      <td>عايز</td>\n",
              "      <td>O</td>\n",
              "    </tr>\n",
              "    <tr>\n",
              "      <th>1</th>\n",
              "      <td>sent243</td>\n",
              "      <td>اسافر</td>\n",
              "      <td>O</td>\n",
              "    </tr>\n",
              "    <tr>\n",
              "      <th>2</th>\n",
              "      <td>sent243</td>\n",
              "      <td>المملكة</td>\n",
              "      <td>B-country</td>\n",
              "    </tr>\n",
              "    <tr>\n",
              "      <th>3</th>\n",
              "      <td>sent243</td>\n",
              "      <td>العربية</td>\n",
              "      <td>I-country</td>\n",
              "    </tr>\n",
              "    <tr>\n",
              "      <th>4</th>\n",
              "      <td>sent243</td>\n",
              "      <td>السعودية</td>\n",
              "      <td>E-country</td>\n",
              "    </tr>\n",
              "  </tbody>\n",
              "</table>\n",
              "</div>"
            ],
            "text/plain": [
              "  Sentence      Word        Tag\n",
              "0  sent243      عايز          O\n",
              "1  sent243     اسافر          O\n",
              "2  sent243   المملكة  B-country\n",
              "3  sent243   العربية  I-country\n",
              "4  sent243  السعودية  E-country"
            ]
          },
          "metadata": {},
          "execution_count": 33
        }
      ]
    }
  ]
}